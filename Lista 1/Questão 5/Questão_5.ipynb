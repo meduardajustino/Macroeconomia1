{
 "cells": [
  {
   "cell_type": "markdown",
   "metadata": {},
   "source": [
    "### i. Determine os valores do produto e da taxa de juros de equilíbrio a partir do modelo IS-LM.\n",
    "- Ache também os valores do Consumo e do Investimento usando os valores dos\n",
    "parâmetros da purpleTabela 1."
   ]
  },
  {
   "cell_type": "code",
   "execution_count": 63,
   "metadata": {},
   "outputs": [],
   "source": [
    "# Parâmetros fornecidos\n",
    "M = 25        # Oferta de moeda\n",
    "P = 5         # Nível de preços\n",
    "T = 20        # Imposto\n",
    "A = 15        # Investimento autônomo\n",
    "G = 20        # Gastos do governo\n",
    "c0 = 15       # Intercepto do consumo\n",
    "c1 = 0.8      # Propensão marginal a consumir\n",
    "ir = 0.5      # Sensibilidade do investimento em relação à taxa de juros\n",
    "m = 6        \n",
    "m2 = 0.5      # Sensibilidade da demanda por moeda em relação à taxa de juros\n",
    "m1 = 0.03     # Sensibilidade da demanda por moeda em relação à renda agregada."
   ]
  },
  {
   "cell_type": "code",
   "execution_count": 64,
   "metadata": {},
   "outputs": [
    {
     "name": "stdout",
     "output_type": "stream",
     "text": [
      "Produto de equilíbrio Y*: 143.478\n"
     ]
    }
   ],
   "source": [
    "# Equações encontradas a mão - produto e juros de equilíbrio\n",
    "def produto_equilibrio():\n",
    "    equacao1 = 1/(1 - c1 + (ir*(m1/m2)))\n",
    "    equacao2 = c0 - (c1*T) + A + G - (ir*(m/m2)) + (M/P)*(ir/m2) \n",
    "    Y_otimo = equacao1*equacao2\n",
    "    return Y_otimo\n",
    "\n",
    "# Calcular Y*\n",
    "Y_de_equilibrio = produto_equilibrio()\n",
    "print(f\"Produto de equilíbrio Y*: {Y_de_equilibrio:.3f}\")\n"
   ]
  },
  {
   "cell_type": "code",
   "execution_count": 65,
   "metadata": {},
   "outputs": [
    {
     "name": "stdout",
     "output_type": "stream",
     "text": [
      "Taxa de juros com equação completa: 10.609\n",
      "Taxa de juros de equilíbrio r*: 10.609\n"
     ]
    }
   ],
   "source": [
    "def calcular_juros():\n",
    "    r_star= (m/m2) - (M*(1-c1) / (P * (m2*(1-c1) + ir*m1))) + (m1/(m2*(1-c1) + ir*m1)) * (c0 - c1*T + G + A - ir*(m/m2))\n",
    "    return r_star\n",
    "\n",
    "def juros_equilibrio():\n",
    "    r_otimo = m/m2 - (M/(P*m2)) + (m1/m2)*(Y_de_equilibrio)\n",
    "    return r_otimo\n",
    "\n",
    "juros = calcular_juros()\n",
    "print(f\"Taxa de juros com equação completa: {juros:.3f}\")\n",
    "\n",
    "# Calcular r*\n",
    "r_de_equilibrio = juros_equilibrio()\n",
    "print(f\"Taxa de juros de equilíbrio r*: {r_de_equilibrio:.3f}\")\n"
   ]
  },
  {
   "cell_type": "markdown",
   "metadata": {},
   "source": [
    "Encontrar consumo e investimento"
   ]
  },
  {
   "cell_type": "code",
   "execution_count": 66,
   "metadata": {},
   "outputs": [
    {
     "name": "stdout",
     "output_type": "stream",
     "text": [
      "O consumo e o investimento calculados considerando Y* = 143.478 e r* = 10.609 são: \n",
      "Consumo = 113.783\n",
      "Investimento = 9.696\n"
     ]
    }
   ],
   "source": [
    "def calcular_consumo():\n",
    "    consumo = c0 + c1*Y_de_equilibrio - c1*T\n",
    "    return consumo\n",
    "\n",
    "def calcular_investimento():\n",
    "    investimento = A - ir*r_de_equilibrio\n",
    "    return investimento\n",
    "\n",
    "consumo = calcular_consumo()\n",
    "investimento = calcular_investimento()\n",
    "\n",
    "print(f\"O consumo e o investimento calculados considerando Y* = {Y_de_equilibrio:.3f} e r* = {r_de_equilibrio:.3f} são: \\nConsumo = {consumo:.3f}\\nInvestimento = {investimento:.3f}\")"
   ]
  },
  {
   "cell_type": "markdown",
   "metadata": {},
   "source": [
    "ii. Agora, o Ministro da Economia lhe pede para avaliar um cenário com aumento dos gastos públicos para G′ = 40. Quais os novos valores de de Y, r, C e I? "
   ]
  },
  {
   "cell_type": "code",
   "execution_count": 67,
   "metadata": {},
   "outputs": [
    {
     "name": "stdout",
     "output_type": "stream",
     "text": [
      "Novos resultados de equilibrio com G=40:\n",
      "Y2 = 230.435; r2 = 15.826; C2 = 183.348 e I2 = 7.087.\n"
     ]
    }
   ],
   "source": [
    "# Com o aumento dos gastos, tem-se:\n",
    "G=40\n",
    "Y_de_equilibrio = produto_equilibrio()\n",
    "r_de_equilibrio = juros_equilibrio()\n",
    "consumo_2 = calcular_consumo()\n",
    "investimento_2 = calcular_investimento()\n",
    "\n",
    "print(f'Novos resultados de equilibrio com G=40:\\nY2 = {Y_de_equilibrio:.3f}; r2 = {r_de_equilibrio:.3f}; C2 = {consumo_2:.3f} e I2 = {investimento_2:.3f}.')"
   ]
  },
  {
   "cell_type": "markdown",
   "metadata": {},
   "source": [
    "iii. Agora, o presidente do Banco Central lhe pede para avaliar um cenário com aumento\n",
    "da oferta de moeda para M′ = 30. Use o mesmo valor para G do item (i). Quais os\n",
    "novos valores de Y, r, C e I?"
   ]
  },
  {
   "cell_type": "code",
   "execution_count": 68,
   "metadata": {},
   "outputs": [
    {
     "name": "stdout",
     "output_type": "stream",
     "text": [
      "Novos resultados de equilibrio com M=30:\n",
      "Y3 = 147.826; r3 = 8.870; C3 = 117.261 e I3 = 10.565.\n"
     ]
    }
   ],
   "source": [
    "# Com o aumento da oferta de moeda, tem-se:\n",
    "G = 20\n",
    "M = 30\n",
    "\n",
    "Y_de_equilibrio = produto_equilibrio()\n",
    "r_de_equilibrio = juros_equilibrio()\n",
    "consumo_3 = calcular_consumo()\n",
    "investimento_3 = calcular_investimento()\n",
    "\n",
    "print(f'Novos resultados de equilibrio com M=30:\\nY3 = {Y_de_equilibrio:.3f}; r3 = {r_de_equilibrio:.3f}; C3 = {consumo_3:.3f} e I3 = {investimento_3:.3f}.')"
   ]
  }
 ],
 "metadata": {
  "kernelspec": {
   "display_name": "Python 3",
   "language": "python",
   "name": "python3"
  },
  "language_info": {
   "codemirror_mode": {
    "name": "ipython",
    "version": 3
   },
   "file_extension": ".py",
   "mimetype": "text/x-python",
   "name": "python",
   "nbconvert_exporter": "python",
   "pygments_lexer": "ipython3",
   "version": "3.13.0"
  }
 },
 "nbformat": 4,
 "nbformat_minor": 2
}
