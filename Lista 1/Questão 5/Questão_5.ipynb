{
 "cells": [
  {
   "cell_type": "markdown",
   "metadata": {},
   "source": [
    "i. Determine os valores do produto e da taxa de juros de equilíbrio a partir do modelo IS-LM.\n",
    "- Ache também os valores do Consumo e do Investimento usando os valores dos\n",
    "parâmetros da purpleTabela 1."
   ]
  },
  {
   "cell_type": "code",
   "execution_count": 1,
   "metadata": {},
   "outputs": [],
   "source": [
    "#bibliotecas usadas"
   ]
  },
  {
   "cell_type": "code",
   "execution_count": null,
   "metadata": {},
   "outputs": [],
   "source": [
    "# Parâmetros fornecidos\n",
    "c0 = 15       # Intercepto do consumo\n",
    "c1 = 0.8      # Propensão marginal a consumir\n",
    "T = 20        # Imposto\n",
    "A = 15        # Investimento autônomo\n",
    "G = 20        # Gastos do governo\n",
    "ir = 1        # Sensibilidade do investimento em relação à taxa de juros\n",
    "m = 6        \n",
    "m2 = 0.5     # Sensibilidade da demanda por moeda em relação à taxa de juros\n",
    "m1 = 0.03    # Sensibilidade da demanda por moeda em relação à renda agregada.\n",
    "M = 25       # Oferta de moeda\n",
    "P = 5        # Nível de preços"
   ]
  },
  {
   "cell_type": "code",
   "execution_count": null,
   "metadata": {},
   "outputs": [],
   "source": [
    "# Encontradas a mão\n",
    "def calcular_Y_star(c0, c1, T, A, G, a, m1, m2, m, M, P):\n",
    "    numerator = c0 - c1 * T + A + G - a * l_i + (a / l_i) * (M / P)\n",
    "    denominator = 1 - c1 + a\n",
    "    Y_star = numerator / denominator\n",
    "    return Y_star\n",
    "\n",
    "# Calcular Y*\n",
    "Y_star = calcular_Y_star(c0, c1, T, A, G, a, l_i, M, P)\n",
    "print(f\"Produto de equilíbrio Y*: {Y_star:.2f}\")\n"
   ]
  },
  {
   "cell_type": "code",
   "execution_count": null,
   "metadata": {},
   "outputs": [],
   "source": [
    "def calcular_r_star(c0, c1, T, A, G, a, l_i, l_y, M, P):\n",
    "    numerator = l_i / (l_i * (1 - c1) + a * l_y) * (c0 - c1 * T + A + G - a * l_i)\n",
    "    denominator = (l_i * (1 - c1) + a * l_y) * (M / P)\n",
    "    r_star = numerator - denominator\n",
    "    return r_star\n",
    "\n",
    "# Calcular r*\n",
    "r_star = calcular_r_star(c0, c1, T, A, G, a, l_i, l_y, M, P)\n",
    "print(f\"Taxa de juros de equilíbrio r*: {r_star:.2f}\")\n"
   ]
  }
 ],
 "metadata": {
  "kernelspec": {
   "display_name": "Python 3",
   "language": "python",
   "name": "python3"
  },
  "language_info": {
   "codemirror_mode": {
    "name": "ipython",
    "version": 3
   },
   "file_extension": ".py",
   "mimetype": "text/x-python",
   "name": "python",
   "nbconvert_exporter": "python",
   "pygments_lexer": "ipython3",
   "version": "3.13.0"
  }
 },
 "nbformat": 4,
 "nbformat_minor": 2
}
