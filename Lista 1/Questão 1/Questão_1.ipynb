{
 "cells": [
  {
   "cell_type": "markdown",
   "metadata": {},
   "source": [
    "## Questão 1\n",
    "Obtenha os seguintes dados no IPEADATA http://www.ipeadata.gov.br/Default.aspx:\n",
    "\n",
    "• PIB - preços de mercado - índice real encadeado dessazonalizado (média 1995 = 100).\n",
    "• Consumo final - famílias - índice real encadeado dessazonalizado (média 1995 = 100).\n",
    "• Formação bruta de capital fixo - índice real encadeado dessazonalizado (média 1995 =\n",
    "100).\n",
    "• PIB - consumo final - APU - índice real encadeado dessazonalizado (média 1995 =\n",
    "100). Esta é a série de gastos do governo.\n",
    "• Indicadores Industriais - horas trabalhadas - indústria - índice dessazonalizado (média\n",
    "2006 = 100).\n",
    "\n",
    "Você precisa transformar essa série para a frequência trimestral, para isso\n",
    "tire a média simples entre os meses que compõem o trimestre. Trimestre 1 = média\n",
    "dos meses de janeiro, fevereiro e março, Trimestre 2=abril,.. etc.\n"
   ]
  },
  {
   "cell_type": "code",
   "execution_count": 92,
   "metadata": {},
   "outputs": [
    {
     "ename": "ModuleNotFoundError",
     "evalue": "No module named 'statsmodels'",
     "output_type": "error",
     "traceback": [
      "\u001b[1;31m---------------------------------------------------------------------------\u001b[0m",
      "\u001b[1;31mModuleNotFoundError\u001b[0m                       Traceback (most recent call last)",
      "Cell \u001b[1;32mIn[92], line 6\u001b[0m\n\u001b[0;32m      4\u001b[0m \u001b[38;5;28;01mimport\u001b[39;00m \u001b[38;5;21;01mseaborn\u001b[39;00m \u001b[38;5;28;01mas\u001b[39;00m \u001b[38;5;21;01msns\u001b[39;00m\n\u001b[0;32m      5\u001b[0m \u001b[38;5;28;01mimport\u001b[39;00m \u001b[38;5;21;01mnumpy\u001b[39;00m \u001b[38;5;28;01mas\u001b[39;00m \u001b[38;5;21;01mnp\u001b[39;00m\n\u001b[1;32m----> 6\u001b[0m \u001b[38;5;28;01mfrom\u001b[39;00m \u001b[38;5;21;01mstatsmodels\u001b[39;00m\u001b[38;5;21;01m.\u001b[39;00m\u001b[38;5;21;01mtsa\u001b[39;00m\u001b[38;5;21;01m.\u001b[39;00m\u001b[38;5;21;01mfilters\u001b[39;00m\u001b[38;5;21;01m.\u001b[39;00m\u001b[38;5;21;01mhp_filter\u001b[39;00m \u001b[38;5;28;01mimport\u001b[39;00m hpfilter\n",
      "\u001b[1;31mModuleNotFoundError\u001b[0m: No module named 'statsmodels'"
     ]
    }
   ],
   "source": [
    "# Bibliotecas usadas\n",
    "import pandas as pd\n",
    "import matplotlib.pyplot as plt\n",
    "import seaborn as sns\n",
    "import numpy as np\n",
    "from statsmodels.tsa.filters.hp_filter import hpfilter\n"
   ]
  },
  {
   "cell_type": "code",
   "execution_count": 85,
   "metadata": {},
   "outputs": [
    {
     "name": "stderr",
     "output_type": "stream",
     "text": [
      "<>:1: SyntaxWarning: invalid escape sequence '\\{'\n",
      "<>:2: SyntaxWarning: invalid escape sequence '\\{'\n",
      "<>:3: SyntaxWarning: invalid escape sequence '\\{'\n",
      "<>:4: SyntaxWarning: invalid escape sequence '\\{'\n",
      "<>:5: SyntaxWarning: invalid escape sequence '\\{'\n",
      "<>:1: SyntaxWarning: invalid escape sequence '\\{'\n",
      "<>:2: SyntaxWarning: invalid escape sequence '\\{'\n",
      "<>:3: SyntaxWarning: invalid escape sequence '\\{'\n",
      "<>:4: SyntaxWarning: invalid escape sequence '\\{'\n",
      "<>:5: SyntaxWarning: invalid escape sequence '\\{'\n",
      "C:\\Users\\Maria Eduarda\\AppData\\Local\\Temp\\ipykernel_8568\\3746326599.py:1: SyntaxWarning: invalid escape sequence '\\{'\n",
      "  pib = pd.read_csv(\"M:\\{estudos}\\Macroeconomia\\Macroeconomia1\\Lista 1\\Questão 1\\Base de dados\\PIB - PREÇOS DE MERCADO.csv\")\n",
      "C:\\Users\\Maria Eduarda\\AppData\\Local\\Temp\\ipykernel_8568\\3746326599.py:2: SyntaxWarning: invalid escape sequence '\\{'\n",
      "  consumo_familiar = pd.read_csv(\"M:\\{estudos}\\Macroeconomia\\Macroeconomia1\\Lista 1\\Questão 1\\Base de dados\\CONSUMO FINAL.csv\")\n",
      "C:\\Users\\Maria Eduarda\\AppData\\Local\\Temp\\ipykernel_8568\\3746326599.py:3: SyntaxWarning: invalid escape sequence '\\{'\n",
      "  formacao_capital = pd.read_csv(\"M:\\{estudos}\\Macroeconomia\\Macroeconomia1\\Lista 1\\Questão 1\\Base de dados\\FORMAÇÃO BRUTA DE CAPITAL FIXO.csv\")\n",
      "C:\\Users\\Maria Eduarda\\AppData\\Local\\Temp\\ipykernel_8568\\3746326599.py:4: SyntaxWarning: invalid escape sequence '\\{'\n",
      "  gastos_governo = pd.read_csv(\"M:\\{estudos}\\Macroeconomia\\Macroeconomia1\\Lista 1\\Questão 1\\Base de dados\\PIB - CONSUMO FINAL.csv\")\n",
      "C:\\Users\\Maria Eduarda\\AppData\\Local\\Temp\\ipykernel_8568\\3746326599.py:5: SyntaxWarning: invalid escape sequence '\\{'\n",
      "  horas_trabalhadas = pd.read_csv(\"M:\\{estudos}\\Macroeconomia\\Macroeconomia1\\Lista 1\\Questão 1\\Base de dados\\HORAS TRABALHADAS - INDÚSTRIA.csv\")\n"
     ]
    }
   ],
   "source": [
    "pib = pd.read_csv(\"M:\\{estudos}\\Macroeconomia\\Macroeconomia1\\Lista 1\\Questão 1\\Base de dados\\PIB - PREÇOS DE MERCADO.csv\")\n",
    "consumo_familiar = pd.read_csv(\"M:\\{estudos}\\Macroeconomia\\Macroeconomia1\\Lista 1\\Questão 1\\Base de dados\\CONSUMO FINAL.csv\")\n",
    "formacao_capital = pd.read_csv(\"M:\\{estudos}\\Macroeconomia\\Macroeconomia1\\Lista 1\\Questão 1\\Base de dados\\FORMAÇÃO BRUTA DE CAPITAL FIXO.csv\")\n",
    "gastos_governo = pd.read_csv(\"M:\\{estudos}\\Macroeconomia\\Macroeconomia1\\Lista 1\\Questão 1\\Base de dados\\PIB - CONSUMO FINAL.csv\")\n",
    "horas_trabalhadas = pd.read_csv(\"M:\\{estudos}\\Macroeconomia\\Macroeconomia1\\Lista 1\\Questão 1\\Base de dados\\HORAS TRABALHADAS - INDÚSTRIA.csv\")\n",
    "\n",
    "\n",
    "\n"
   ]
  },
  {
   "cell_type": "code",
   "execution_count": 54,
   "metadata": {},
   "outputs": [],
   "source": [
    "# Removendo colunas e linhas vazias\n",
    "for df in [pib, consumo_familiar, formacao_capital, gastos_governo, horas_trabalhadas]:\n",
    "    df.drop(columns=[col for col in df.columns if \"Unnamed\" in col], inplace=True, errors='ignore')"
   ]
  },
  {
   "cell_type": "code",
   "execution_count": 58,
   "metadata": {},
   "outputs": [
    {
     "name": "stdout",
     "output_type": "stream",
     "text": [
      "<class 'pandas.core.frame.DataFrame'>\n",
      "RangeIndex: 115 entries, 0 to 114\n",
      "Data columns (total 5 columns):\n",
      " #   Column                                                                                                                                                                                                                                      Non-Null Count  Dtype         \n",
      "---  ------                                                                                                                                                                                                                                      --------------  -----         \n",
      " 0   Data                                                                                                                                                                                                                                        115 non-null    datetime64[ns]\n",
      " 1   PIB - preços de mercado - índice real encadeado dessazonalizado (média 1995 = 100) - - - Instituto Brasileiro de Geografia e Estatística- Sistema de Contas Nacionais Trimestrais (IBGE/SCN Trimestral) - SCN104_PIBPMAS104                 115 non-null    float64       \n",
      " 2   PIB - consumo final - famílias - índice real encadeado dessazonalizado (média 1995 = 100) - - - Instituto Brasileiro de Geografia e Estatística- Sistema de Contas Nacionais Trimestrais (IBGE/SCN Trimestral) - SCN104_PIBCPPAS104_x       115 non-null    float64       \n",
      " 3   PIB - formação bruta de capital fixo - índice real encadeado dessazonalizado (média 1995 = 100) - - - Instituto Brasileiro de Geografia e Estatística- Sistema de Contas Nacionais Trimestrais (IBGE/SCN Trimestral) - SCN104_PIBFBKFAS104  115 non-null    float64       \n",
      " 4   PIB - consumo final - famílias - índice real encadeado dessazonalizado (média 1995 = 100) - - - Instituto Brasileiro de Geografia e Estatística- Sistema de Contas Nacionais Trimestrais (IBGE/SCN Trimestral) - SCN104_PIBCPPAS104_y       115 non-null    float64       \n",
      "dtypes: datetime64[ns](1), float64(4)\n",
      "memory usage: 4.6 KB\n"
     ]
    }
   ],
   "source": [
    "for df in [pib, consumo_familiar, formacao_capital, gastos_governo]:\n",
    "    df['Data'] = pd.to_datetime(df['Data'], errors='coerce')\n",
    "    df.dropna(subset=['Data'], inplace=True) \n",
    "    df.drop_duplicates(subset=['Data'], inplace=True)\n",
    "\n",
    "# Juntando os dados no mesmo data frame pela data\n",
    "df_temp = pd.merge(pib, consumo_familiar, on='Data', how='inner')\n",
    "df_temp = pd.merge(df_temp, formacao_capital, on='Data', how='inner')\n",
    "df = pd.merge(df_temp, gastos_governo, on='Data', how='inner')\n",
    "\n",
    "df.info()"
   ]
  },
  {
   "cell_type": "code",
   "execution_count": 64,
   "metadata": {},
   "outputs": [
    {
     "data": {
      "text/html": [
       "<div>\n",
       "<style scoped>\n",
       "    .dataframe tbody tr th:only-of-type {\n",
       "        vertical-align: middle;\n",
       "    }\n",
       "\n",
       "    .dataframe tbody tr th {\n",
       "        vertical-align: top;\n",
       "    }\n",
       "\n",
       "    .dataframe thead th {\n",
       "        text-align: right;\n",
       "    }\n",
       "</style>\n",
       "<table border=\"1\" class=\"dataframe\">\n",
       "  <thead>\n",
       "    <tr style=\"text-align: right;\">\n",
       "      <th></th>\n",
       "      <th>Data</th>\n",
       "      <th>PIB - preços de mercado - índice real encadeado dessazonalizado (média 1995 = 100) - - - Instituto Brasileiro de Geografia e Estatística- Sistema de Contas Nacionais Trimestrais (IBGE/SCN Trimestral) - SCN104_PIBPMAS104</th>\n",
       "      <th>PIB - consumo final - famílias - índice real encadeado dessazonalizado (média 1995 = 100) - - - Instituto Brasileiro de Geografia e Estatística- Sistema de Contas Nacionais Trimestrais (IBGE/SCN Trimestral) - SCN104_PIBCPPAS104_x</th>\n",
       "      <th>PIB - formação bruta de capital fixo - índice real encadeado dessazonalizado (média 1995 = 100) - - - Instituto Brasileiro de Geografia e Estatística- Sistema de Contas Nacionais Trimestrais (IBGE/SCN Trimestral) - SCN104_PIBFBKFAS104</th>\n",
       "      <th>PIB - consumo final - famílias - índice real encadeado dessazonalizado (média 1995 = 100) - - - Instituto Brasileiro de Geografia e Estatística- Sistema de Contas Nacionais Trimestrais (IBGE/SCN Trimestral) - SCN104_PIBCPPAS104_y</th>\n",
       "      <th>Trimestre-Ano</th>\n",
       "    </tr>\n",
       "  </thead>\n",
       "  <tbody>\n",
       "    <tr>\n",
       "      <th>0</th>\n",
       "      <td>1996-01-01</td>\n",
       "      <td>99.395877</td>\n",
       "      <td>98.630029</td>\n",
       "      <td>96.839932</td>\n",
       "      <td>98.630029</td>\n",
       "      <td>01-1996</td>\n",
       "    </tr>\n",
       "    <tr>\n",
       "      <th>1</th>\n",
       "      <td>1996-02-01</td>\n",
       "      <td>100.661918</td>\n",
       "      <td>100.877926</td>\n",
       "      <td>98.714318</td>\n",
       "      <td>100.877926</td>\n",
       "      <td>02-1996</td>\n",
       "    </tr>\n",
       "    <tr>\n",
       "      <th>2</th>\n",
       "      <td>1996-03-01</td>\n",
       "      <td>104.149975</td>\n",
       "      <td>103.932393</td>\n",
       "      <td>102.410768</td>\n",
       "      <td>103.932393</td>\n",
       "      <td>03-1996</td>\n",
       "    </tr>\n",
       "    <tr>\n",
       "      <th>3</th>\n",
       "      <td>1996-04-01</td>\n",
       "      <td>103.377928</td>\n",
       "      <td>109.173637</td>\n",
       "      <td>106.776219</td>\n",
       "      <td>109.173637</td>\n",
       "      <td>04-1996</td>\n",
       "    </tr>\n",
       "  </tbody>\n",
       "</table>\n",
       "</div>"
      ],
      "text/plain": [
       "        Data  \\\n",
       "0 1996-01-01   \n",
       "1 1996-02-01   \n",
       "2 1996-03-01   \n",
       "3 1996-04-01   \n",
       "\n",
       "   PIB - preços de mercado - índice real encadeado dessazonalizado (média 1995 = 100) - - - Instituto Brasileiro de Geografia e Estatística- Sistema de Contas Nacionais Trimestrais (IBGE/SCN Trimestral) - SCN104_PIBPMAS104  \\\n",
       "0                                          99.395877                                                                                                                                                                             \n",
       "1                                         100.661918                                                                                                                                                                             \n",
       "2                                         104.149975                                                                                                                                                                             \n",
       "3                                         103.377928                                                                                                                                                                             \n",
       "\n",
       "   PIB - consumo final - famílias - índice real encadeado dessazonalizado (média 1995 = 100) - - - Instituto Brasileiro de Geografia e Estatística- Sistema de Contas Nacionais Trimestrais (IBGE/SCN Trimestral) - SCN104_PIBCPPAS104_x  \\\n",
       "0                                          98.630029                                                                                                                                                                                       \n",
       "1                                         100.877926                                                                                                                                                                                       \n",
       "2                                         103.932393                                                                                                                                                                                       \n",
       "3                                         109.173637                                                                                                                                                                                       \n",
       "\n",
       "   PIB - formação bruta de capital fixo - índice real encadeado dessazonalizado (média 1995 = 100) - - - Instituto Brasileiro de Geografia e Estatística- Sistema de Contas Nacionais Trimestrais (IBGE/SCN Trimestral) - SCN104_PIBFBKFAS104  \\\n",
       "0                                          96.839932                                                                                                                                                                                            \n",
       "1                                          98.714318                                                                                                                                                                                            \n",
       "2                                         102.410768                                                                                                                                                                                            \n",
       "3                                         106.776219                                                                                                                                                                                            \n",
       "\n",
       "   PIB - consumo final - famílias - índice real encadeado dessazonalizado (média 1995 = 100) - - - Instituto Brasileiro de Geografia e Estatística- Sistema de Contas Nacionais Trimestrais (IBGE/SCN Trimestral) - SCN104_PIBCPPAS104_y  \\\n",
       "0                                          98.630029                                                                                                                                                                                       \n",
       "1                                         100.877926                                                                                                                                                                                       \n",
       "2                                         103.932393                                                                                                                                                                                       \n",
       "3                                         109.173637                                                                                                                                                                                       \n",
       "\n",
       "  Trimestre-Ano  \n",
       "0       01-1996  \n",
       "1       02-1996  \n",
       "2       03-1996  \n",
       "3       04-1996  "
      ]
     },
     "execution_count": 64,
     "metadata": {},
     "output_type": "execute_result"
    }
   ],
   "source": [
    "df.head(4)\n"
   ]
  },
  {
   "cell_type": "code",
   "execution_count": 49,
   "metadata": {},
   "outputs": [],
   "source": []
  },
  {
   "cell_type": "code",
   "execution_count": 80,
   "metadata": {},
   "outputs": [
    {
     "name": "stdout",
     "output_type": "stream",
     "text": [
      "        Data Trimestre-Ano\n",
      "0 1996-01-01      T01 1996\n",
      "1 1996-02-01      T02 1996\n",
      "2 1996-03-01      T03 1996\n",
      "3 1996-04-01      T04 1996\n",
      "4 1997-01-01      T01 1997\n"
     ]
    }
   ],
   "source": [
    "df['Data'] = pd.to_datetime(df['Data'])\n",
    "df['Trimestre-Ano'] = df['Data'].dt.strftime('T%m %Y')\n",
    "\n",
    "print(df[['Data', 'Trimestre-Ano']].head())\n"
   ]
  },
  {
   "cell_type": "code",
   "execution_count": 98,
   "metadata": {},
   "outputs": [
    {
     "name": "stdout",
     "output_type": "stream",
     "text": [
      "   Data  \\\n",
      "0   NaT   \n",
      "1   NaT   \n",
      "2   NaT   \n",
      "3   NaT   \n",
      "4   NaT   \n",
      "5   NaT   \n",
      "6   NaT   \n",
      "7   NaT   \n",
      "8   NaT   \n",
      "9   NaT   \n",
      "10  NaT   \n",
      "11  NaT   \n",
      "\n",
      "    Indicadores Industriais - horas trabalhadas - indústria - índice dessazonalizado (média 2006 = 100) - - - Confederação Nacional da Indústria - CNI12_HTRABD12  \\\n",
      "0                                          124.381784                                                                                                               \n",
      "1                                          126.063564                                                                                                               \n",
      "2                                          120.141113                                                                                                               \n",
      "3                                          121.913029                                                                                                               \n",
      "4                                          121.295059                                                                                                               \n",
      "5                                          120.910142                                                                                                               \n",
      "6                                          121.863124                                                                                                               \n",
      "7                                          120.250083                                                                                                               \n",
      "8                                          120.253049                                                                                                               \n",
      "9                                          119.762880                                                                                                               \n",
      "10                                         119.794994                                                                                                               \n",
      "11                                         115.575960                                                                                                               \n",
      "\n",
      "    Unnamed: 2 Trimestre Trimestre-Ano  \n",
      "0          NaN      None           NaN  \n",
      "1          NaN      None           NaN  \n",
      "2          NaN      None           NaN  \n",
      "3          NaN      None           NaN  \n",
      "4          NaN      None           NaN  \n",
      "5          NaN      None           NaN  \n",
      "6          NaN      None           NaN  \n",
      "7          NaN      None           NaN  \n",
      "8          NaN      None           NaN  \n",
      "9          NaN      None           NaN  \n",
      "10         NaN      None           NaN  \n",
      "11         NaN      None           NaN  \n"
     ]
    }
   ],
   "source": [
    "def converter_data(value):\n",
    "    try:\n",
    "        value_str = str(value).strip()\n",
    "        ano, mes = map(int, value_str.split('.'))\n",
    "        return pd.Timestamp(year=ano, month=mes, day=1)\n",
    "    except ValueError:\n",
    "        return pd.NaT\n",
    "\n",
    "horas_trabalhadas['Data'] = horas_trabalhadas['Data'].apply(converter_data)\n",
    "\n",
    "def determinar_trimestre(mes):\n",
    "    if mes in [1, 2, 3]:\n",
    "        return 'T1'\n",
    "    elif mes in [4, 5, 6]:\n",
    "        return 'T2'\n",
    "    elif mes in [7, 8, 9]:\n",
    "        return 'T3'\n",
    "    elif mes in [10, 11, 12]:\n",
    "        return 'T4'\n",
    "\n",
    "horas_trabalhadas['Trimestre'] = horas_trabalhadas['Data'].dt.month.apply(determinar_trimestre)\n",
    "horas_trabalhadas['Trimestre-Ano'] = horas_trabalhadas['Data'].dt.strftime('%Y') + ' ' + horas_trabalhadas['Trimestre']\n",
    "\n",
    "# Verificar o resultado após a conversão\n",
    "print(horas_trabalhadas.head(12))\n"
   ]
  },
  {
   "cell_type": "code",
   "execution_count": null,
   "metadata": {},
   "outputs": [
    {
     "data": {
      "text/html": [
       "<div>\n",
       "<style scoped>\n",
       "    .dataframe tbody tr th:only-of-type {\n",
       "        vertical-align: middle;\n",
       "    }\n",
       "\n",
       "    .dataframe tbody tr th {\n",
       "        vertical-align: top;\n",
       "    }\n",
       "\n",
       "    .dataframe thead th {\n",
       "        text-align: right;\n",
       "    }\n",
       "</style>\n",
       "<table border=\"1\" class=\"dataframe\">\n",
       "  <thead>\n",
       "    <tr style=\"text-align: right;\">\n",
       "      <th></th>\n",
       "      <th>Data</th>\n",
       "      <th>Indicadores Industriais - horas trabalhadas - indústria - índice dessazonalizado (média 2006 = 100) - - - Confederação Nacional da Indústria - CNI12_HTRABD12</th>\n",
       "      <th>Unnamed: 2</th>\n",
       "    </tr>\n",
       "  </thead>\n",
       "  <tbody>\n",
       "    <tr>\n",
       "      <th>0</th>\n",
       "      <td>1992.01</td>\n",
       "      <td>124.381784</td>\n",
       "      <td>NaN</td>\n",
       "    </tr>\n",
       "    <tr>\n",
       "      <th>1</th>\n",
       "      <td>1992.02</td>\n",
       "      <td>126.063564</td>\n",
       "      <td>NaN</td>\n",
       "    </tr>\n",
       "    <tr>\n",
       "      <th>2</th>\n",
       "      <td>1992.03</td>\n",
       "      <td>120.141113</td>\n",
       "      <td>NaN</td>\n",
       "    </tr>\n",
       "    <tr>\n",
       "      <th>3</th>\n",
       "      <td>1992.04</td>\n",
       "      <td>121.913029</td>\n",
       "      <td>NaN</td>\n",
       "    </tr>\n",
       "    <tr>\n",
       "      <th>4</th>\n",
       "      <td>1992.05</td>\n",
       "      <td>121.295059</td>\n",
       "      <td>NaN</td>\n",
       "    </tr>\n",
       "  </tbody>\n",
       "</table>\n",
       "</div>"
      ],
      "text/plain": [
       "      Data  \\\n",
       "0  1992.01   \n",
       "1  1992.02   \n",
       "2  1992.03   \n",
       "3  1992.04   \n",
       "4  1992.05   \n",
       "\n",
       "   Indicadores Industriais - horas trabalhadas - indústria - índice dessazonalizado (média 2006 = 100) - - - Confederação Nacional da Indústria - CNI12_HTRABD12  \\\n",
       "0                                         124.381784                                                                                                               \n",
       "1                                         126.063564                                                                                                               \n",
       "2                                         120.141113                                                                                                               \n",
       "3                                         121.913029                                                                                                               \n",
       "4                                         121.295059                                                                                                               \n",
       "\n",
       "   Unnamed: 2  \n",
       "0         NaN  \n",
       "1         NaN  \n",
       "2         NaN  \n",
       "3         NaN  \n",
       "4         NaN  "
      ]
     },
     "execution_count": 82,
     "metadata": {},
     "output_type": "execute_result"
    }
   ],
   "source": [
    "horas_trabalhadas.head()\n"
   ]
  },
  {
   "cell_type": "markdown",
   "metadata": {},
   "source": [
    "Siga os seguintes passos:\n",
    "\n",
    "i - Aplique o **logaritmo natural** nas séries. Feito isso, use o filtro HP (Hodrick–Prescott)1 nas\n",
    "séries em logaritmo e obtenha a tendência de cada série. Faça um gráfico para cada\n",
    "série junto com sua tendência estimada pelo filtro HP."
   ]
  },
  {
   "cell_type": "code",
   "execution_count": 74,
   "metadata": {},
   "outputs": [
    {
     "ename": "NameError",
     "evalue": "name 'hpfilter' is not defined",
     "output_type": "error",
     "traceback": [
      "\u001b[1;31m---------------------------------------------------------------------------\u001b[0m",
      "\u001b[1;31mNameError\u001b[0m                                 Traceback (most recent call last)",
      "Cell \u001b[1;32mIn[74], line 8\u001b[0m\n\u001b[0;32m      5\u001b[0m df[\u001b[38;5;124m'\u001b[39m\u001b[38;5;124mLog_PIB_Familias_y\u001b[39m\u001b[38;5;124m'\u001b[39m] \u001b[38;5;241m=\u001b[39m np\u001b[38;5;241m.\u001b[39mlog(df[\u001b[38;5;124m'\u001b[39m\u001b[38;5;124mPIB - consumo final - famílias - índice real encadeado dessazonalizado (média 1995 = 100) - - - Instituto Brasileiro de Geografia e Estatística- Sistema de Contas Nacionais Trimestrais (IBGE/SCN Trimestral) - SCN104_PIBCPPAS104_y\u001b[39m\u001b[38;5;124m'\u001b[39m])\n\u001b[0;32m      7\u001b[0m \u001b[38;5;66;03m# Aplicar o Filtro de Hodrick-Prescott (HP) para cada série\u001b[39;00m\n\u001b[1;32m----> 8\u001b[0m ciclo_pib_mercado, tendencia_pib_mercado \u001b[38;5;241m=\u001b[39m \u001b[43mhpfilter\u001b[49m(df[\u001b[38;5;124m'\u001b[39m\u001b[38;5;124mLog_PIB_Mercado\u001b[39m\u001b[38;5;124m'\u001b[39m], lamb\u001b[38;5;241m=\u001b[39m\u001b[38;5;241m1600\u001b[39m)\n\u001b[0;32m      9\u001b[0m ciclo_pib_familias, tendencia_pib_familias \u001b[38;5;241m=\u001b[39m hpfilter(df[\u001b[38;5;124m'\u001b[39m\u001b[38;5;124mLog_PIB_Familias\u001b[39m\u001b[38;5;124m'\u001b[39m], lamb\u001b[38;5;241m=\u001b[39m\u001b[38;5;241m1600\u001b[39m)\n\u001b[0;32m     10\u001b[0m ciclo_pib_capital, tendencia_pib_capital \u001b[38;5;241m=\u001b[39m hpfilter(df[\u001b[38;5;124m'\u001b[39m\u001b[38;5;124mLog_PIB_Capital\u001b[39m\u001b[38;5;124m'\u001b[39m], lamb\u001b[38;5;241m=\u001b[39m\u001b[38;5;241m1600\u001b[39m)\n",
      "\u001b[1;31mNameError\u001b[0m: name 'hpfilter' is not defined"
     ]
    }
   ],
   "source": [
    "# Aplicar o logaritmo natural às séries\n",
    "df['Log_PIB_Mercado'] = np.log(df['PIB - preços de mercado - índice real encadeado dessazonalizado (média 1995 = 100) - - - Instituto Brasileiro de Geografia e Estatística- Sistema de Contas Nacionais Trimestrais (IBGE/SCN Trimestral) - SCN104_PIBPMAS104'])\n",
    "df['Log_PIB_Familias'] = np.log(df['PIB - consumo final - famílias - índice real encadeado dessazonalizado (média 1995 = 100) - - - Instituto Brasileiro de Geografia e Estatística- Sistema de Contas Nacionais Trimestrais (IBGE/SCN Trimestral) - SCN104_PIBCPPAS104_x'])\n",
    "df['Log_PIB_Capital'] = np.log(df['PIB - formação bruta de capital fixo - índice real encadeado dessazonalizado (média 1995 = 100) - - - Instituto Brasileiro de Geografia e Estatística- Sistema de Contas Nacionais Trimestrais (IBGE/SCN Trimestral) - SCN104_PIBFBKFAS104'])\n",
    "df['Log_PIB_Familias_y'] = np.log(df['PIB - consumo final - famílias - índice real encadeado dessazonalizado (média 1995 = 100) - - - Instituto Brasileiro de Geografia e Estatística- Sistema de Contas Nacionais Trimestrais (IBGE/SCN Trimestral) - SCN104_PIBCPPAS104_y'])\n",
    "\n",
    "# Aplicar o Filtro de Hodrick-Prescott (HP) para cada série\n",
    "ciclo_pib_mercado, tendencia_pib_mercado = hpfilter(df['Log_PIB_Mercado'], lamb=1600)\n",
    "ciclo_pib_familias, tendencia_pib_familias = hpfilter(df['Log_PIB_Familias'], lamb=1600)\n",
    "ciclo_pib_capital, tendencia_pib_capital = hpfilter(df['Log_PIB_Capital'], lamb=1600)\n",
    "ciclo_pib_familias_y, tendencia_pib_familias_y = hpfilter(df['Log_PIB_Familias_y'], lamb=1600)\n",
    "\n"
   ]
  },
  {
   "cell_type": "code",
   "execution_count": null,
   "metadata": {},
   "outputs": [],
   "source": []
  }
 ],
 "metadata": {
  "kernelspec": {
   "display_name": "Python 3",
   "language": "python",
   "name": "python3"
  },
  "language_info": {
   "codemirror_mode": {
    "name": "ipython",
    "version": 3
   },
   "file_extension": ".py",
   "mimetype": "text/x-python",
   "name": "python",
   "nbconvert_exporter": "python",
   "pygments_lexer": "ipython3",
   "version": "3.13.0"
  }
 },
 "nbformat": 4,
 "nbformat_minor": 2
}
