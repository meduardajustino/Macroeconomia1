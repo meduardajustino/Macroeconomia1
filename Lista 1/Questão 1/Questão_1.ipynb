{
 "cells": [
  {
   "cell_type": "markdown",
   "metadata": {},
   "source": [
    "## Questão 1\n",
    "Obtenha os seguintes dados no IPEADATA http://www.ipeadata.gov.br/Default.aspx:\n",
    "\n",
    "• PIB - preços de mercado - índice real encadeado dessazonalizado (média 1995 = 100).\n",
    "• Consumo final - famílias - índice real encadeado dessazonalizado (média 1995 = 100).\n",
    "• Formação bruta de capital fixo - índice real encadeado dessazonalizado (média 1995 =\n",
    "100).\n",
    "• PIB - consumo final - APU - índice real encadeado dessazonalizado (média 1995 =\n",
    "100). Esta é a série de gastos do governo.\n",
    "• Indicadores Industriais - horas trabalhadas - indústria - índice dessazonalizado (média\n",
    "2006 = 100).\n",
    "\n",
    "Você precisa transformar essa série para a frequência trimestral, para isso\n",
    "tire a média simples entre os meses que compõem o trimestre. Trimestre 1 = média\n",
    "dos meses de janeiro, fevereiro e março, Trimestre 2=abril,.. etc.\n",
    "\n",
    "Siga os seguintes passos:\n",
    "i Aplique o logaritmo natural nas séries. Feito isso, use o filtro HP (Hodrick–Prescott)1 nas\n",
    "séries em logaritmo e obtenha a tendência de cada série. Faça um gráfico para cada\n",
    "série junto com sua tendência estimada pelo filtro HP.\n"
   ]
  },
  {
   "cell_type": "markdown",
   "metadata": {},
   "source": [
    "\n"
   ]
  },
  {
   "cell_type": "code",
   "execution_count": 2,
   "metadata": {},
   "outputs": [],
   "source": [
    "# Bibliotecas usadas\n",
    "import pandas as pd\n",
    "import matplotlib.pyplot as plt\n",
    "import seaborn as sns\n"
   ]
  },
  {
   "cell_type": "code",
   "execution_count": null,
   "metadata": {},
   "outputs": [],
   "source": [
    "pib = pd.read_csv(\"M:\\{estudos}\\Macroeconomia\\Macroeconomia1\\Lista 1\\Questão 1\\Base de dados\\PIB - PREÇOS DE MERCADO.csv\")\n",
    "consumo_familiar = pd.read_csv(\"M:\\{estudos}\\Macroeconomia\\Macroeconomia1\\Lista 1\\Questão 1\\Base de dados\\CONSUMO FINAL.csv\")\n",
    "formacao_capital = pd.read_csv(\"M:\\{estudos}\\Macroeconomia\\Macroeconomia1\\Lista 1\\Questão 1\\Base de dados\\FORMAÇÃO BRUTA DE CAPITAL FIXO.csv\")\n",
    "gastos_governo = pd.read_csv(\"M:\\{estudos}\\Macroeconomia\\Macroeconomia1\\Lista 1\\Questão 1\\Base de dados\\PIB - CONSUMO FINAL.csv\")\n",
    "horas_trabalhadas = \"M:\\{estudos}\\Macroeconomia\\Macroeconomia1\\Lista 1\\Questão 1\\Base de dados\\HORAS TRABALHADAS - INDÚSTRIA.csv\"\n",
    "\n",
    "# Transformar a série de horas trabalhadas para trimestre\n",
    "\n"
   ]
  },
  {
   "cell_type": "code",
   "execution_count": null,
   "metadata": {},
   "outputs": [],
   "source": []
  }
 ],
 "metadata": {
  "kernelspec": {
   "display_name": "Python 3",
   "language": "python",
   "name": "python3"
  },
  "language_info": {
   "codemirror_mode": {
    "name": "ipython",
    "version": 3
   },
   "file_extension": ".py",
   "mimetype": "text/x-python",
   "name": "python",
   "nbconvert_exporter": "python",
   "pygments_lexer": "ipython3",
   "version": "3.13.0"
  }
 },
 "nbformat": 4,
 "nbformat_minor": 2
}
